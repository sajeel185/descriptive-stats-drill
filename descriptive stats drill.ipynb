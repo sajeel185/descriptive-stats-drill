{
 "cells": [
  {
   "cell_type": "code",
   "execution_count": 15,
   "metadata": {},
   "outputs": [],
   "source": [
    "import numpy as np\n",
    "import pandas as pd\n",
    "import matplotlib.pyplot as plt\n",
    "%matplotlib inline"
   ]
  },
  {
   "cell_type": "code",
   "execution_count": 32,
   "metadata": {},
   "outputs": [
    {
     "name": "stdout",
     "output_type": "stream",
     "text": [
      "mean: 2.033818521380387\n",
      "Standard Deviation: 5.05047039699281\n"
     ]
    },
    {
     "data": {
      "image/png": "[encoded data removed]",
      "text/plain": [
       "<Figure size 432x288 with 1 Axes>"
      ]
     },
     "metadata": {
      "needs_background": "light"
     },
     "output_type": "display_data"
    }
   ],
   "source": [
    "#Graph of a Normal Distribution\n",
    "\n",
    "normal_dist = np.random.normal(2, 5, 100)\n",
    "normal_dist_mean = np.mean(normal_dist)\n",
    "normal_dist_std = np.std(normal_dist)\n",
    "print(\"mean: \" + str(normal_dist_mean))\n",
    "print(\"Standard Deviation: \" + str(normal_dist_std))\n",
    "\n",
    "\n",
    "plt.hist(normal_dist)\n",
    "plt.axvline(normal_dist.mean(), color='b', linestyle='solid', linewidth=2)\n",
    "plt.axvline(normal_dist.mean() + normal_dist.std(), color='b', linestyle='dashed', linewidth=2)\n",
    "plt.axvline(normal_dist.mean()- normal_dist.std(), color='b', linestyle='dashed', linewidth=2) \n",
    "plt.show()"
   ]
  },
  {
   "cell_type": "code",
   "execution_count": 52,
   "metadata": {},
   "outputs": [
    {
     "name": "stdout",
     "output_type": "stream",
     "text": [
      "mean: 3.86\n",
      "Standard Deviation: 1.9494614640972008\n"
     ]
    },
    {
     "data": {
      "image/png": "[encoded data removed]",
      "text/plain": [
       "<Figure size 432x288 with 1 Axes>"
      ]
     },
     "metadata": {
      "needs_background": "light"
     },
     "output_type": "display_data"
    }
   ],
   "source": [
    "#Graph of Poisson Distribution\n",
    "#The first argument for this random function represents the rate that events occur during a given time period.\n",
    "pdist = np.random.poisson(4, 100)\n",
    "pdist_mean = np.mean(pdist)\n",
    "pdist_std = np.std(pdist)\n",
    "print(\"mean: \" + str(pdist_mean))\n",
    "print(\"Standard Deviation: \" + str(pdist_std))\n",
    "plt.hist(pdist)\n",
    "plt.axvline(pdist.mean(), color='b', linestyle='solid', linewidth=2)\n",
    "plt.axvline(pdist.mean() + pdist.std(), color='b', linestyle='dashed', linewidth=2)\n",
    "plt.axvline(pdist.mean()- pdist.std(), color='b', linestyle='dashed', linewidth=2) \n",
    "plt.show()"
   ]
  },
  {
   "cell_type": "code",
   "execution_count": 42,
   "metadata": {
    "scrolled": true
   },
   "outputs": [
    {
     "name": "stdout",
     "output_type": "stream",
     "text": [
      "mean: 2.29\n",
      "Standard Deviation: 1.1941105476462386\n"
     ]
    },
    {
     "data": {
      "image/png": "[encoded data removed]",
      "text/plain": [
       "<Figure size 432x288 with 1 Axes>"
      ]
     },
     "metadata": {
      "needs_background": "light"
     },
     "output_type": "display_data"
    }
   ],
   "source": [
    "#Graph of Binomial Distribution\n",
    "\n",
    "b_dist = np.random.binomial(5, .5, 100)\n",
    "b_dist_mean = np.mean(b_dist)\n",
    "b_dist_std = np.std(b_dist)\n",
    "print(\"mean: \" + str(b_dist_mean))\n",
    "print(\"Standard Deviation: \" + str(b_dist_std))\n",
    "plt.hist(b_dist)\n",
    "plt.axvline(b_dist.mean(), color='b', linestyle='solid', linewidth=2)\n",
    "plt.axvline(b_dist.mean() + b_dist.std(), color='b', linestyle='dashed', linewidth=2)\n",
    "plt.axvline(b_dist.mean()- b_dist.std(), color='b', linestyle='dashed', linewidth=2) \n",
    "plt.show()"
   ]
  },
  {
   "cell_type": "code",
   "execution_count": null,
   "metadata": {},
   "outputs": [],
   "source": []
  },
  {
   "cell_type": "code",
   "execution_count": null,
   "metadata": {},
   "outputs": [],
   "source": []
  },
  {
   "cell_type": "code",
   "execution_count": null,
   "metadata": {},
   "outputs": [],
   "source": []
  }
 ],
 "metadata": {
  "kernelspec": {
   "display_name": "Python 3",
   "language": "python",
   "name": "python3"
  },
  "language_info": {
   "codemirror_mode": {
    "name": "ipython",
    "version": 3
   },
   "file_extension": ".py",
   "mimetype": "text/x-python",
   "name": "python",
   "nbconvert_exporter": "python",
   "pygments_lexer": "ipython3",
   "version": "3.7.0"
  }
 },
 "nbformat": 4,
 "nbformat_minor": 2
}
